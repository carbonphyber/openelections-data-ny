{
 "cells": [
  {
   "cell_type": "code",
   "execution_count": 1,
   "id": "c11e4741-2eff-48dd-910e-e73f0dd67424",
   "metadata": {
    "tags": []
   },
   "outputs": [],
   "source": [
    "import pandas as pd"
   ]
  },
  {
   "cell_type": "code",
   "execution_count": 29,
   "id": "9657db65-b146-4d57-804c-9578b80f50d9",
   "metadata": {
    "tags": []
   },
   "outputs": [],
   "source": [
    "df = pd.read_fwf(\n",
    "    \"https://raw.githubusercontent.com/openelections/openelections-sources-ny/master/2022/general/GEN2022.ASC\",\n",
    "    colspecs=(\n",
    "        (0, 4),\n",
    "        (4, 7),\n",
    "        (7, 11),\n",
    "        (11, 17),\n",
    "        (17, 20),\n",
    "        (20, 23),\n",
    "        (23, 27),\n",
    "        (27, 82),\n",
    "        (82, 120),\n",
    "        (120, 150),\n",
    "        (150, 175),\n",
    "        (175, 178),\n",
    "        (178, 179)\n",
    "    ),\n",
    "    dtype=str,\n",
    "    names=[\n",
    "        \"Contest Number\",\n",
    "        \"Candidate Number\",\n",
    "        \"Precinct Code\",\n",
    "        \"Votes\",\n",
    "        \"Party Code\",\n",
    "        \"District Type ID\",\n",
    "        \"District Code\",\n",
    "        \"Contest Title\",\n",
    "        \"Candidate Name\",\n",
    "        \"Precinct Name\",\n",
    "        \"District Name\",\n",
    "        \"Votes Allowed\",\n",
    "        \"Referendum\",\n",
    "    ]\n",
    ")"
   ]
  },
  {
   "cell_type": "code",
   "execution_count": 30,
   "id": "c2854421-055e-46a1-aff3-bb00206b7e01",
   "metadata": {
    "tags": []
   },
   "outputs": [
    {
     "data": {
      "text/html": [
       "<div>\n",
       "<style scoped>\n",
       "    .dataframe tbody tr th:only-of-type {\n",
       "        vertical-align: middle;\n",
       "    }\n",
       "\n",
       "    .dataframe tbody tr th {\n",
       "        vertical-align: top;\n",
       "    }\n",
       "\n",
       "    .dataframe thead th {\n",
       "        text-align: right;\n",
       "    }\n",
       "</style>\n",
       "<table border=\"1\" class=\"dataframe\">\n",
       "  <thead>\n",
       "    <tr style=\"text-align: right;\">\n",
       "      <th></th>\n",
       "      <th>Contest Number</th>\n",
       "      <th>Candidate Number</th>\n",
       "      <th>Precinct Code</th>\n",
       "      <th>Votes</th>\n",
       "      <th>Party Code</th>\n",
       "      <th>District Type ID</th>\n",
       "      <th>District Code</th>\n",
       "      <th>Contest Title</th>\n",
       "      <th>Candidate Name</th>\n",
       "      <th>Precinct Name</th>\n",
       "      <th>District Name</th>\n",
       "      <th>Votes Allowed</th>\n",
       "      <th>Referendum</th>\n",
       "    </tr>\n",
       "  </thead>\n",
       "  <tbody>\n",
       "    <tr>\n",
       "      <th>0</th>\n",
       "      <td>0001</td>\n",
       "      <td>001</td>\n",
       "      <td>0001</td>\n",
       "      <td>000000</td>\n",
       "      <td>NaN</td>\n",
       "      <td>NaN</td>\n",
       "      <td>NaN</td>\n",
       "      <td>REGISTERED VOTERS - TOTAL</td>\n",
       "      <td>REGISTERED VOTERS - TOTAL</td>\n",
       "      <td>113001</td>\n",
       "      <td>NaN</td>\n",
       "      <td>00</td>\n",
       "      <td>NaN</td>\n",
       "    </tr>\n",
       "    <tr>\n",
       "      <th>1</th>\n",
       "      <td>0001</td>\n",
       "      <td>001</td>\n",
       "      <td>0002</td>\n",
       "      <td>000000</td>\n",
       "      <td>NaN</td>\n",
       "      <td>NaN</td>\n",
       "      <td>NaN</td>\n",
       "      <td>REGISTERED VOTERS - TOTAL</td>\n",
       "      <td>REGISTERED VOTERS - TOTAL</td>\n",
       "      <td>113002</td>\n",
       "      <td>NaN</td>\n",
       "      <td>00</td>\n",
       "      <td>NaN</td>\n",
       "    </tr>\n",
       "    <tr>\n",
       "      <th>2</th>\n",
       "      <td>0001</td>\n",
       "      <td>001</td>\n",
       "      <td>0003</td>\n",
       "      <td>000000</td>\n",
       "      <td>NaN</td>\n",
       "      <td>NaN</td>\n",
       "      <td>NaN</td>\n",
       "      <td>REGISTERED VOTERS - TOTAL</td>\n",
       "      <td>REGISTERED VOTERS - TOTAL</td>\n",
       "      <td>113003</td>\n",
       "      <td>NaN</td>\n",
       "      <td>00</td>\n",
       "      <td>NaN</td>\n",
       "    </tr>\n",
       "    <tr>\n",
       "      <th>3</th>\n",
       "      <td>0001</td>\n",
       "      <td>001</td>\n",
       "      <td>0004</td>\n",
       "      <td>000000</td>\n",
       "      <td>NaN</td>\n",
       "      <td>NaN</td>\n",
       "      <td>NaN</td>\n",
       "      <td>REGISTERED VOTERS - TOTAL</td>\n",
       "      <td>REGISTERED VOTERS - TOTAL</td>\n",
       "      <td>113004</td>\n",
       "      <td>NaN</td>\n",
       "      <td>00</td>\n",
       "      <td>NaN</td>\n",
       "    </tr>\n",
       "    <tr>\n",
       "      <th>4</th>\n",
       "      <td>0001</td>\n",
       "      <td>001</td>\n",
       "      <td>0005</td>\n",
       "      <td>000000</td>\n",
       "      <td>NaN</td>\n",
       "      <td>NaN</td>\n",
       "      <td>NaN</td>\n",
       "      <td>REGISTERED VOTERS - TOTAL</td>\n",
       "      <td>REGISTERED VOTERS - TOTAL</td>\n",
       "      <td>113005</td>\n",
       "      <td>NaN</td>\n",
       "      <td>00</td>\n",
       "      <td>NaN</td>\n",
       "    </tr>\n",
       "  </tbody>\n",
       "</table>\n",
       "</div>"
      ],
      "text/plain": [
       "  Contest Number Candidate Number Precinct Code   Votes Party Code  \\\n",
       "0           0001              001          0001  000000        NaN   \n",
       "1           0001              001          0002  000000        NaN   \n",
       "2           0001              001          0003  000000        NaN   \n",
       "3           0001              001          0004  000000        NaN   \n",
       "4           0001              001          0005  000000        NaN   \n",
       "\n",
       "  District Type ID District Code              Contest Title  \\\n",
       "0              NaN           NaN  REGISTERED VOTERS - TOTAL   \n",
       "1              NaN           NaN  REGISTERED VOTERS - TOTAL   \n",
       "2              NaN           NaN  REGISTERED VOTERS - TOTAL   \n",
       "3              NaN           NaN  REGISTERED VOTERS - TOTAL   \n",
       "4              NaN           NaN  REGISTERED VOTERS - TOTAL   \n",
       "\n",
       "              Candidate Name Precinct Name District Name Votes Allowed  \\\n",
       "0  REGISTERED VOTERS - TOTAL        113001           NaN            00   \n",
       "1  REGISTERED VOTERS - TOTAL        113002           NaN            00   \n",
       "2  REGISTERED VOTERS - TOTAL        113003           NaN            00   \n",
       "3  REGISTERED VOTERS - TOTAL        113004           NaN            00   \n",
       "4  REGISTERED VOTERS - TOTAL        113005           NaN            00   \n",
       "\n",
       "  Referendum  \n",
       "0        NaN  \n",
       "1        NaN  \n",
       "2        NaN  \n",
       "3        NaN  \n",
       "4        NaN  "
      ]
     },
     "execution_count": 30,
     "metadata": {},
     "output_type": "execute_result"
    }
   ],
   "source": [
    "df.head()"
   ]
  },
  {
   "cell_type": "code",
   "execution_count": null,
   "id": "280e8569-03a8-4f71-843f-c96501b73b00",
   "metadata": {},
   "outputs": [],
   "source": [
    "# county,precinct,office,district,party,candidate,votes"
   ]
  },
  {
   "cell_type": "code",
   "execution_count": 42,
   "id": "a6df2a1e-9a05-4d93-ae8d-23122d1fba2f",
   "metadata": {
    "tags": []
   },
   "outputs": [],
   "source": [
    "df['county'] = 'Nassau'"
   ]
  },
  {
   "cell_type": "code",
   "execution_count": 43,
   "id": "ca6ccdc8-fbe9-4641-a1ac-da5d7156eb8c",
   "metadata": {
    "tags": []
   },
   "outputs": [],
   "source": [
    "df['district'] = None"
   ]
  },
  {
   "cell_type": "code",
   "execution_count": 44,
   "id": "5422a17b-00e9-4478-a88e-a01b711bc973",
   "metadata": {
    "tags": []
   },
   "outputs": [],
   "source": [
    "trimmed = df[[\n",
    "    'county',\n",
    "    'Precinct Name',\n",
    "    'Contest Title',\n",
    "    'district',\n",
    "    'Party Code',\n",
    "    'Candidate Name',\n",
    "    'Votes',\n",
    "]].rename(\n",
    "    columns={\n",
    "        \"Precinct Name\": \"precinct\",\n",
    "        \"Contest Title\": \"office\",\n",
    "        \"Party Code\": \"party\",\n",
    "        \"Candidate Name\": \"candidate\",\n",
    "        \"Votes\": \"votes\"\n",
    "    }\n",
    ")"
   ]
  },
  {
   "cell_type": "code",
   "execution_count": 45,
   "id": "ec0acfe1-4b55-419d-a9b5-cd4f7e4983c8",
   "metadata": {
    "tags": []
   },
   "outputs": [
    {
     "data": {
      "text/html": [
       "<div>\n",
       "<style scoped>\n",
       "    .dataframe tbody tr th:only-of-type {\n",
       "        vertical-align: middle;\n",
       "    }\n",
       "\n",
       "    .dataframe tbody tr th {\n",
       "        vertical-align: top;\n",
       "    }\n",
       "\n",
       "    .dataframe thead th {\n",
       "        text-align: right;\n",
       "    }\n",
       "</style>\n",
       "<table border=\"1\" class=\"dataframe\">\n",
       "  <thead>\n",
       "    <tr style=\"text-align: right;\">\n",
       "      <th></th>\n",
       "      <th>county</th>\n",
       "      <th>precinct</th>\n",
       "      <th>office</th>\n",
       "      <th>district</th>\n",
       "      <th>party</th>\n",
       "      <th>candidate</th>\n",
       "      <th>votes</th>\n",
       "    </tr>\n",
       "  </thead>\n",
       "  <tbody>\n",
       "    <tr>\n",
       "      <th>0</th>\n",
       "      <td>Nassau</td>\n",
       "      <td>113001</td>\n",
       "      <td>REGISTERED VOTERS - TOTAL</td>\n",
       "      <td>None</td>\n",
       "      <td>NaN</td>\n",
       "      <td>REGISTERED VOTERS - TOTAL</td>\n",
       "      <td>000000</td>\n",
       "    </tr>\n",
       "    <tr>\n",
       "      <th>1</th>\n",
       "      <td>Nassau</td>\n",
       "      <td>113002</td>\n",
       "      <td>REGISTERED VOTERS - TOTAL</td>\n",
       "      <td>None</td>\n",
       "      <td>NaN</td>\n",
       "      <td>REGISTERED VOTERS - TOTAL</td>\n",
       "      <td>000000</td>\n",
       "    </tr>\n",
       "    <tr>\n",
       "      <th>2</th>\n",
       "      <td>Nassau</td>\n",
       "      <td>113003</td>\n",
       "      <td>REGISTERED VOTERS - TOTAL</td>\n",
       "      <td>None</td>\n",
       "      <td>NaN</td>\n",
       "      <td>REGISTERED VOTERS - TOTAL</td>\n",
       "      <td>000000</td>\n",
       "    </tr>\n",
       "    <tr>\n",
       "      <th>3</th>\n",
       "      <td>Nassau</td>\n",
       "      <td>113004</td>\n",
       "      <td>REGISTERED VOTERS - TOTAL</td>\n",
       "      <td>None</td>\n",
       "      <td>NaN</td>\n",
       "      <td>REGISTERED VOTERS - TOTAL</td>\n",
       "      <td>000000</td>\n",
       "    </tr>\n",
       "    <tr>\n",
       "      <th>4</th>\n",
       "      <td>Nassau</td>\n",
       "      <td>113005</td>\n",
       "      <td>REGISTERED VOTERS - TOTAL</td>\n",
       "      <td>None</td>\n",
       "      <td>NaN</td>\n",
       "      <td>REGISTERED VOTERS - TOTAL</td>\n",
       "      <td>000000</td>\n",
       "    </tr>\n",
       "  </tbody>\n",
       "</table>\n",
       "</div>"
      ],
      "text/plain": [
       "   county precinct                     office district party  \\\n",
       "0  Nassau   113001  REGISTERED VOTERS - TOTAL     None   NaN   \n",
       "1  Nassau   113002  REGISTERED VOTERS - TOTAL     None   NaN   \n",
       "2  Nassau   113003  REGISTERED VOTERS - TOTAL     None   NaN   \n",
       "3  Nassau   113004  REGISTERED VOTERS - TOTAL     None   NaN   \n",
       "4  Nassau   113005  REGISTERED VOTERS - TOTAL     None   NaN   \n",
       "\n",
       "                   candidate   votes  \n",
       "0  REGISTERED VOTERS - TOTAL  000000  \n",
       "1  REGISTERED VOTERS - TOTAL  000000  \n",
       "2  REGISTERED VOTERS - TOTAL  000000  \n",
       "3  REGISTERED VOTERS - TOTAL  000000  \n",
       "4  REGISTERED VOTERS - TOTAL  000000  "
      ]
     },
     "execution_count": 45,
     "metadata": {},
     "output_type": "execute_result"
    }
   ],
   "source": [
    "trimmed.head()"
   ]
  },
  {
   "cell_type": "code",
   "execution_count": 49,
   "id": "b59f20da-db9f-4759-87e1-4568ff380cd8",
   "metadata": {
    "tags": []
   },
   "outputs": [],
   "source": [
    "trimmed['votes'] = trimmed.votes.astype(int)"
   ]
  },
  {
   "cell_type": "code",
   "execution_count": 50,
   "id": "18a44d00-6038-4f75-8968-1a68f8c7919c",
   "metadata": {
    "tags": []
   },
   "outputs": [
    {
     "data": {
      "text/plain": [
       "Justice of the Supreme Court                   22596\n",
       "Family Court Judge                             16140\n",
       "County Court Judge                             12912\n",
       "District Court Judge District 2                11142\n",
       "United States Senator                           8608\n",
       "Governor and Lieutenant Governor                7532\n",
       "State Comptroller                               7532\n",
       "Attorney General                                7532\n",
       "District Court Judge District 1                 6456\n",
       "Proposal Number One, A Proposition              4304\n",
       "Representative in Congress District 4           3486\n",
       "Representative in Congress District 3           3311\n",
       "State Senator District 7                        1848\n",
       "State Senator District 5                        1799\n",
       "State Senator District 9                        1722\n",
       "State Senator District 6                        1631\n",
       "District Court Judge District 4                 1626\n",
       "REGISTERED VOTERS - TOTAL                       1076\n",
       "BALLOTS CAST - BLANK                            1076\n",
       "BALLOTS CAST - TOTAL                            1076\n",
       "Member of Assembly District 16                   763\n",
       "Member of Assembly District 13                   714\n",
       "Member of Assembly District 21                   702\n",
       "Member of Assembly District 19                   678\n",
       "Member of Assembly District 15                   672\n",
       "Member of Assembly District 14                   672\n",
       "Member of Assembly District 22                   623\n",
       "Member of Assembly District 20                   612\n",
       "Council Member District 3 Town of Hempstead      594\n",
       "Member of Assembly District 17                   570\n",
       "Member of Assembly District 18                   546\n",
       "State Senator District 8                         456\n",
       "Member of Assembly District 9                    204\n",
       "Representative in Congress District 2            154\n",
       "City Judge City of Glen Cove                     108\n",
       "Member of Assembly District 10                    48\n",
       "Member of Assembly District 11                    30\n",
       "Name: office, dtype: int64"
      ]
     },
     "execution_count": 50,
     "metadata": {},
     "output_type": "execute_result"
    }
   ],
   "source": [
    "trimmed.office.value_counts()"
   ]
  },
  {
   "cell_type": "code",
   "execution_count": 54,
   "id": "95722622-351e-4dd6-8acd-8d76bf15939a",
   "metadata": {
    "tags": []
   },
   "outputs": [],
   "source": [
    "trimmed.to_csv(\"20221108__ny__general__nassau__precinct.csv\", index=False)"
   ]
  }
 ],
 "metadata": {
  "kernelspec": {
   "display_name": "Python 3 (ipykernel)",
   "language": "python",
   "name": "python3"
  },
  "language_info": {
   "codemirror_mode": {
    "name": "ipython",
    "version": 3
   },
   "file_extension": ".py",
   "mimetype": "text/x-python",
   "name": "python",
   "nbconvert_exporter": "python",
   "pygments_lexer": "ipython3",
   "version": "3.10.9"
  }
 },
 "nbformat": 4,
 "nbformat_minor": 5
}
